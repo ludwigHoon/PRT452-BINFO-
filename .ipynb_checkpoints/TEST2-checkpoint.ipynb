{
 "cells": [
  {
   "cell_type": "code",
   "execution_count": 1,
   "metadata": {},
   "outputs": [
    {
     "name": "stderr",
     "output_type": "stream",
     "text": [
      "Loading required package: usethis\n",
      "\n",
      "Loading minSNP\n",
      "\n",
      "Loading required package: foreach\n",
      "\n",
      "Loading required package: iterators\n",
      "\n",
      "Loading required package: parallel\n",
      "\n"
     ]
    }
   ],
   "source": [
    "library(devtools)\n",
    "load_all('./minSNP')\n",
    "library(doParallel)\n",
    "registerDoParallel(cores=2)"
   ]
  },
  {
   "cell_type": "code",
   "execution_count": 3,
   "metadata": {},
   "outputs": [
    {
     "name": "stdout",
     "output_type": "stream",
     "text": [
      "[1] \"Length of sequence: 29938\"\n",
      "[1] \"Number of excluded position 29938\"\n",
      "[1] \"Length of sequence: 29938\"\n",
      "[1] \"Number of excluded position 7830\"\n"
     ]
    }
   ],
   "source": [
    "sar <- readFasta('./minSNP/data/MT292582.1 and 199 other sequences.aln')\n",
    "exc_Pos <- flagPosition(sar)\n",
    "print(paste(\"Length of sequence:\",length(sar[1][[1]])))\n",
    "print(paste(\"Number of excluded position\", length(unique_exc_Pos)))\n",
    "exc_Pos_2 <- flagPosition(sar, dashIgnore = FALSE)\n",
    "print(paste(\"Length of sequence:\",length(sar[1][[1]])))\n",
    "print(paste(\"Number of excluded position\", length(unique_exc_Pos_2)))\n",
    "unique_exc_Pos_2 <- sort(unique_exc_Pos_2)"
   ]
  },
  {
   "cell_type": "code",
   "execution_count": 4,
   "metadata": {},
   "outputs": [
    {
     "name": "stdout",
     "output_type": "stream",
     "text": [
      "[1] 7830\n"
     ]
    }
   ],
   "source": [
    "print(length(exc_Pos_2))"
   ]
  },
  {
   "cell_type": "code",
   "execution_count": 6,
   "metadata": {},
   "outputs": [
    {
     "name": "stdout",
     "output_type": "stream",
     "text": [
      "$`result 1`\n",
      "$`result 1`[[1]]\n",
      "$`result 1`[[1]]$position\n",
      "numeric(0)\n",
      "\n",
      "$`result 1`[[1]]$percent\n",
      "[1] 0\n",
      "\n",
      "\n",
      "\n"
     ]
    }
   ],
   "source": [
    "result1=branch.percent(sar, 'gb|MT292582.1', 1, excluded=exc_Pos, numRes=1)\n",
    "print(result1)"
   ]
  },
  {
   "cell_type": "code",
   "execution_count": 5,
   "metadata": {},
   "outputs": [
    {
     "name": "stdout",
     "output_type": "stream",
     "text": [
      "$`result 1`\n",
      "$`result 1`[[1]]\n",
      "$`result 1`[[1]]$position\n",
      "[1] 9481\n",
      "\n",
      "$`result 1`[[1]]$percent\n",
      "[1] 95.9799\n",
      "\n",
      "\n",
      "\n",
      "$`result 2`\n",
      "$`result 2`[[1]]\n",
      "$`result 2`[[1]]$position\n",
      "[1] 25989\n",
      "\n",
      "$`result 2`[[1]]$percent\n",
      "[1] 95.9799\n",
      "\n",
      "\n",
      "\n",
      "$`result 3`\n",
      "$`result 3`[[1]]\n",
      "$`result 3`[[1]]$position\n",
      "[1] 14815\n",
      "\n",
      "$`result 3`[[1]]$percent\n",
      "[1] 92.96482\n",
      "\n",
      "\n",
      "\n"
     ]
    }
   ],
   "source": [
    "result=branch.percent(sar, 'gb|MT292582.1', 1, excluded=exc_Pos_2, numRes=3)\n",
    "print(result)"
   ]
  },
  {
   "cell_type": "code",
   "execution_count": 7,
   "metadata": {},
   "outputs": [
    {
     "name": "stdout",
     "output_type": "stream",
     "text": [
      "[1] \"Result 1:\"\n",
      "[[1]]\n",
      "[[1]]$position\n",
      "[1] 9481\n",
      "\n",
      "[[1]]$percent\n",
      "[1] 95.9799\n",
      "\n",
      "\n",
      "[1] \"Residual:\"\n",
      "[1] \"gb|MT292581.1, gb|MT292579.1, gb|MT292578.1, gb|MT292576.1, gb|MT292577.1, gb|MT292574.1, gb|MT292573.1, gb|MT292571.1\"\n",
      "----------\n",
      "\n",
      "[1] \"Result 2:\"\n",
      "[[1]]\n",
      "[[1]]$position\n",
      "[1] 25989\n",
      "\n",
      "[[1]]$percent\n",
      "[1] 95.9799\n",
      "\n",
      "\n",
      "[1] \"Residual:\"\n",
      "[1] \"gb|MT292581.1, gb|MT292579.1, gb|MT292578.1, gb|MT292576.1, gb|MT292577.1, gb|MT292574.1, gb|MT292573.1, gb|MT292571.1\"\n",
      "----------\n",
      "\n",
      "[1] \"Result 3:\"\n",
      "[[1]]\n",
      "[[1]]$position\n",
      "[1] 14815\n",
      "\n",
      "[[1]]$percent\n",
      "[1] 92.96482\n",
      "\n",
      "\n",
      "[1] \"Residual:\"\n",
      "[1] \"gb|MT292581.1, gb|MT292579.1, gb|MT292578.1, gb|MT292576.1, gb|MT292577.1, gb|MT292574.1, gb|MT292573.1, gb|MT292571.1, gb|MT276326.1, gb|MT263404.1, gb|MT304476.1, gb|MT304475.1, gb|MT304474.1, gb|MT304487.1\"\n",
      "----------\n",
      "\n"
     ]
    }
   ],
   "source": [
    "present.percent(sar,'gb|MT292582.1', result)"
   ]
  },
  {
   "cell_type": "code",
   "execution_count": 7,
   "metadata": {},
   "outputs": [
    {
     "name": "stdout",
     "output_type": "stream",
     "text": [
      "[1] \"a\"\n",
      "[1] \"t\"\n",
      "[1] \"t\"\n"
     ]
    }
   ],
   "source": [
    "print(sar[['gb|MT292582.1']][9481])\n",
    "print(sar[['gb|MT292582.1']][25989])\n",
    "print(sar[['gb|MT292582.1']][14815])"
   ]
  },
  {
   "cell_type": "code",
   "execution_count": null,
   "metadata": {},
   "outputs": [],
   "source": [
    "ctype=percent.pattern(sar, list(), 29938)\n",
    "print(ctype)\n",
    "percent.calculate(ctype, 'gb|MT292582.1')"
   ]
  }
 ],
 "metadata": {
  "kernelspec": {
   "display_name": "R",
   "language": "R",
   "name": "ir"
  },
  "language_info": {
   "codemirror_mode": "r",
   "file_extension": ".r",
   "mimetype": "text/x-r-source",
   "name": "R",
   "pygments_lexer": "r",
   "version": "3.6.1"
  }
 },
 "nbformat": 4,
 "nbformat_minor": 2
}
