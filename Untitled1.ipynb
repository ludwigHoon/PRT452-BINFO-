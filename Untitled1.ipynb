{
 "cells": [
  {
   "cell_type": "code",
   "execution_count": 1,
   "metadata": {},
   "outputs": [
    {
     "name": "stderr",
     "output_type": "stream",
     "text": [
      "Loading required package: usethis\n",
      "\n",
      "Loading minSNP\n",
      "\n",
      "Loading required package: foreach\n",
      "\n",
      "Loading required package: iterators\n",
      "\n",
      "Loading required package: parallel\n",
      "\n"
     ]
    }
   ],
   "source": [
    "library(devtools)\n",
    "load_all('./minSNP')\n",
    "library(doParallel)\n",
    "registerDoParallel(cores=2)"
   ]
  },
  {
   "cell_type": "code",
   "execution_count": 2,
   "metadata": {},
   "outputs": [
    {
     "name": "stdout",
     "output_type": "stream",
     "text": [
      "[1] \"Length of sequence: 29938\"\n",
      "[1] \"Number of excluded position 29938\"\n",
      "[1] \"Length of sequence: 29938\"\n",
      "[1] \"Number of excluded position 7830\"\n"
     ]
    }
   ],
   "source": [
    "sar <- readFasta('./minSNP/data/MT292582.1 and 199 other sequences.aln')\n",
    "exc_Pos <- flagPosition(sar)\n",
    "unique_exc_Pos <- unique(exc_Pos)\n",
    "print(paste(\"Length of sequence:\",length(sar[1][[1]])))\n",
    "print(paste(\"Number of excluded position\", length(unique_exc_Pos)))\n",
    "exc_Pos_2 <- flagPosition(sar, dashIgnore = FALSE)\n",
    "unique_exc_Pos_2 <- unique(exc_Pos_2)\n",
    "print(paste(\"Length of sequence:\",length(sar[1][[1]])))\n",
    "print(paste(\"Number of excluded position\", length(unique_exc_Pos_2)))\n",
    "unique_exc_Pos_2 <- sort(unique_exc_Pos_2)"
   ]
  },
  {
   "cell_type": "code",
   "execution_count": null,
   "metadata": {},
   "outputs": [],
   "source": [
    "result=branch.percent(sar, 'gb|MT292582.1', 1, excluded=exc_Pos, numRes=1)"
   ]
  },
  {
   "cell_type": "code",
   "execution_count": null,
   "metadata": {},
   "outputs": [],
   "source": [
    "result=branch.percent(sar, 'gb|MT292582.1', 1, excluded=unique_exc_Pos_2, numRes=1)"
   ]
  },
  {
   "cell_type": "code",
   "execution_count": null,
   "metadata": {},
   "outputs": [],
   "source": [
    "branch.percent(sar, 'gb|MT292582.1', 1, excluded=c(1:29937), numRes=1)"
   ]
  },
  {
   "cell_type": "code",
   "execution_count": null,
   "metadata": {},
   "outputs": [],
   "source": [
    "ctype=percent.pattern(sar, list(), 29938)\n",
    "print(ctype)\n",
    "percent.calculate(ctype, 'gb|MT292582.1')"
   ]
  },
  {
   "cell_type": "code",
   "execution_count": null,
   "metadata": {},
   "outputs": [],
   "source": []
  },
  {
   "cell_type": "code",
   "execution_count": null,
   "metadata": {},
   "outputs": [],
   "source": [
    "stopCluster()"
   ]
  },
  {
   "cell_type": "code",
   "execution_count": null,
   "metadata": {},
   "outputs": [],
   "source": [
    "registerDoParallel(cores=2)"
   ]
  },
  {
   "cell_type": "code",
   "execution_count": 3,
   "metadata": {},
   "outputs": [
    {
     "data": {
      "text/html": [
       "2"
      ],
      "text/latex": [
       "2"
      ],
      "text/markdown": [
       "2"
      ],
      "text/plain": [
       "[1] 2"
      ]
     },
     "metadata": {},
     "output_type": "display_data"
    }
   ],
   "source": [
    "getDoParWorkers()"
   ]
  },
  {
   "cell_type": "code",
   "execution_count": null,
   "metadata": {},
   "outputs": [],
   "source": [
    "a<-c(1:10)"
   ]
  },
  {
   "cell_type": "code",
   "execution_count": null,
   "metadata": {},
   "outputs": [],
   "source": [
    "length(sar[1][[1]])"
   ]
  }
 ],
 "metadata": {
  "kernelspec": {
   "display_name": "R",
   "language": "R",
   "name": "ir"
  },
  "language_info": {
   "codemirror_mode": "r",
   "file_extension": ".r",
   "mimetype": "text/x-r-source",
   "name": "R",
   "pygments_lexer": "r",
   "version": "3.6.1"
  }
 },
 "nbformat": 4,
 "nbformat_minor": 2
}
