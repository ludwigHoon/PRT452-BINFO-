{
 "cells": [
  {
   "cell_type": "code",
   "execution_count": 1,
   "metadata": {},
   "outputs": [
    {
     "name": "stderr",
     "output_type": "stream",
     "text": [
      "Loading required package: usethis\n",
      "\n",
      "Loading required package: foreach\n",
      "\n",
      "Loading required package: iterators\n",
      "\n",
      "Loading required package: parallel\n",
      "\n",
      "Loading minSNP\n",
      "\n"
     ]
    }
   ],
   "source": [
    "library(devtools)\n",
    "library(doParallel)\n",
    "load_all('./minSNP')\n",
    "registerDoParallel(cores=2)"
   ]
  },
  {
   "cell_type": "code",
   "execution_count": 2,
   "metadata": {},
   "outputs": [],
   "source": [
    "sar <- readFasta('./minSNP/data/MT292582.1 and 199 other sequences.aln')"
   ]
  },
  {
   "cell_type": "code",
   "execution_count": 3,
   "metadata": {},
   "outputs": [
    {
     "data": {
      "text/html": [
       "<style>\n",
       ".list-inline {list-style: none; margin:0; padding: 0}\n",
       ".list-inline>li {display: inline-block}\n",
       ".list-inline>li:not(:last-child)::after {content: \"\\00b7\"; padding: 0 .5ex}\n",
       "</style>\n",
       "<ol class=list-inline><li>'gb|MT292582.1'</li><li>'gb|MT292580.1'</li><li>'gb|MT281530.1'</li></ol>\n"
      ],
      "text/latex": [
       "\\begin{enumerate*}\n",
       "\\item 'gb\\textbar{}MT292582.1'\n",
       "\\item 'gb\\textbar{}MT292580.1'\n",
       "\\item 'gb\\textbar{}MT281530.1'\n",
       "\\end{enumerate*}\n"
      ],
      "text/markdown": [
       "1. 'gb|MT292582.1'\n",
       "2. 'gb|MT292580.1'\n",
       "3. 'gb|MT281530.1'\n",
       "\n",
       "\n"
      ],
      "text/plain": [
       "[1] \"gb|MT292582.1\" \"gb|MT292580.1\" \"gb|MT281530.1\""
      ]
     },
     "metadata": {},
     "output_type": "display_data"
    }
   ],
   "source": [
    "sar <- sar[1:3]\n",
    "names(sar)"
   ]
  },
  {
   "cell_type": "code",
   "execution_count": 4,
   "metadata": {},
   "outputs": [
    {
     "name": "stdout",
     "output_type": "stream",
     "text": [
      "[1] 4934\n"
     ]
    }
   ],
   "source": [
    "exc <- flagPosition(sar)\n",
    "print(length(exc))"
   ]
  },
  {
   "cell_type": "code",
   "execution_count": null,
   "metadata": {},
   "outputs": [],
   "source": [
    "re<-branch.percent(sar, 'gb|MT292582.1', 3, numRes=2, excluded= exc)"
   ]
  },
  {
   "cell_type": "code",
   "execution_count": null,
   "metadata": {},
   "outputs": [],
   "source": [
    "re\n",
    "saveRDS(re, file=\"re.RDS\")"
   ]
  },
  {
   "cell_type": "code",
   "execution_count": 5,
   "metadata": {},
   "outputs": [
    {
     "data": {
      "text/html": [
       "<dl>\n",
       "\t<dt>$`result 1`</dt>\n",
       "\t\t<dd><ol>\n",
       "\t<li><dl>\n",
       "\t<dt>$position</dt>\n",
       "\t\t<dd>8786</dd>\n",
       "\t<dt>$percent</dt>\n",
       "\t\t<dd>100</dd>\n",
       "</dl>\n",
       "</li>\n",
       "\t<li><dl>\n",
       "\t<dt>$position</dt>\n",
       "\t\t<dd><style>\n",
       ".list-inline {list-style: none; margin:0; padding: 0}\n",
       ".list-inline>li {display: inline-block}\n",
       ".list-inline>li:not(:last-child)::after {content: \"\\00b7\"; padding: 0 .5ex}\n",
       "</style>\n",
       "<ol class=list-inline><li>8786</li><li>59</li></ol>\n",
       "</dd>\n",
       "\t<dt>$percent</dt>\n",
       "\t\t<dd>100</dd>\n",
       "</dl>\n",
       "</li>\n",
       "\t<li><dl>\n",
       "\t<dt>$position</dt>\n",
       "\t\t<dd><style>\n",
       ".list-inline {list-style: none; margin:0; padding: 0}\n",
       ".list-inline>li {display: inline-block}\n",
       ".list-inline>li:not(:last-child)::after {content: \"\\00b7\"; padding: 0 .5ex}\n",
       "</style>\n",
       "<ol class=list-inline><li>8786</li><li>59</li><li>60</li></ol>\n",
       "</dd>\n",
       "\t<dt>$percent</dt>\n",
       "\t\t<dd>100</dd>\n",
       "</dl>\n",
       "</li>\n",
       "</ol>\n",
       "</dd>\n",
       "\t<dt>$`result 2`</dt>\n",
       "\t\t<dd><ol>\n",
       "\t<li><dl>\n",
       "\t<dt>$position</dt>\n",
       "\t\t<dd>9481</dd>\n",
       "\t<dt>$percent</dt>\n",
       "\t\t<dd>100</dd>\n",
       "</dl>\n",
       "</li>\n",
       "\t<li><dl>\n",
       "\t<dt>$position</dt>\n",
       "\t\t<dd><style>\n",
       ".list-inline {list-style: none; margin:0; padding: 0}\n",
       ".list-inline>li {display: inline-block}\n",
       ".list-inline>li:not(:last-child)::after {content: \"\\00b7\"; padding: 0 .5ex}\n",
       "</style>\n",
       "<ol class=list-inline><li>9481</li><li>59</li></ol>\n",
       "</dd>\n",
       "\t<dt>$percent</dt>\n",
       "\t\t<dd>100</dd>\n",
       "</dl>\n",
       "</li>\n",
       "\t<li><dl>\n",
       "\t<dt>$position</dt>\n",
       "\t\t<dd><style>\n",
       ".list-inline {list-style: none; margin:0; padding: 0}\n",
       ".list-inline>li {display: inline-block}\n",
       ".list-inline>li:not(:last-child)::after {content: \"\\00b7\"; padding: 0 .5ex}\n",
       "</style>\n",
       "<ol class=list-inline><li>9481</li><li>59</li><li>60</li></ol>\n",
       "</dd>\n",
       "\t<dt>$percent</dt>\n",
       "\t\t<dd>100</dd>\n",
       "</dl>\n",
       "</li>\n",
       "</ol>\n",
       "</dd>\n",
       "</dl>\n"
      ],
      "text/latex": [
       "\\begin{description}\n",
       "\\item[\\$`result 1`] \\begin{enumerate}\n",
       "\\item \\begin{description}\n",
       "\\item[\\$position] 8786\n",
       "\\item[\\$percent] 100\n",
       "\\end{description}\n",
       "\n",
       "\\item \\begin{description}\n",
       "\\item[\\$position] \\begin{enumerate*}\n",
       "\\item 8786\n",
       "\\item 59\n",
       "\\end{enumerate*}\n",
       "\n",
       "\\item[\\$percent] 100\n",
       "\\end{description}\n",
       "\n",
       "\\item \\begin{description}\n",
       "\\item[\\$position] \\begin{enumerate*}\n",
       "\\item 8786\n",
       "\\item 59\n",
       "\\item 60\n",
       "\\end{enumerate*}\n",
       "\n",
       "\\item[\\$percent] 100\n",
       "\\end{description}\n",
       "\n",
       "\\end{enumerate}\n",
       "\n",
       "\\item[\\$`result 2`] \\begin{enumerate}\n",
       "\\item \\begin{description}\n",
       "\\item[\\$position] 9481\n",
       "\\item[\\$percent] 100\n",
       "\\end{description}\n",
       "\n",
       "\\item \\begin{description}\n",
       "\\item[\\$position] \\begin{enumerate*}\n",
       "\\item 9481\n",
       "\\item 59\n",
       "\\end{enumerate*}\n",
       "\n",
       "\\item[\\$percent] 100\n",
       "\\end{description}\n",
       "\n",
       "\\item \\begin{description}\n",
       "\\item[\\$position] \\begin{enumerate*}\n",
       "\\item 9481\n",
       "\\item 59\n",
       "\\item 60\n",
       "\\end{enumerate*}\n",
       "\n",
       "\\item[\\$percent] 100\n",
       "\\end{description}\n",
       "\n",
       "\\end{enumerate}\n",
       "\n",
       "\\end{description}\n"
      ],
      "text/markdown": [
       "$`result 1`\n",
       ":   1. $position\n",
       ":   8786\n",
       "$percent\n",
       ":   100\n",
       "\n",
       "\n",
       "\n",
       "2. $position\n",
       ":   1. 8786\n",
       "2. 59\n",
       "\n",
       "\n",
       "\n",
       "$percent\n",
       ":   100\n",
       "\n",
       "\n",
       "\n",
       "3. $position\n",
       ":   1. 8786\n",
       "2. 59\n",
       "3. 60\n",
       "\n",
       "\n",
       "\n",
       "$percent\n",
       ":   100\n",
       "\n",
       "\n",
       "\n",
       "\n",
       "\n",
       "\n",
       "$`result 2`\n",
       ":   1. $position\n",
       ":   9481\n",
       "$percent\n",
       ":   100\n",
       "\n",
       "\n",
       "\n",
       "2. $position\n",
       ":   1. 9481\n",
       "2. 59\n",
       "\n",
       "\n",
       "\n",
       "$percent\n",
       ":   100\n",
       "\n",
       "\n",
       "\n",
       "3. $position\n",
       ":   1. 9481\n",
       "2. 59\n",
       "3. 60\n",
       "\n",
       "\n",
       "\n",
       "$percent\n",
       ":   100\n",
       "\n",
       "\n",
       "\n",
       "\n",
       "\n",
       "\n",
       "\n",
       "\n"
      ],
      "text/plain": [
       "$`result 1`\n",
       "$`result 1`[[1]]\n",
       "$`result 1`[[1]]$position\n",
       "[1] 8786\n",
       "\n",
       "$`result 1`[[1]]$percent\n",
       "[1] 100\n",
       "\n",
       "\n",
       "$`result 1`[[2]]\n",
       "$`result 1`[[2]]$position\n",
       "[1] 8786   59\n",
       "\n",
       "$`result 1`[[2]]$percent\n",
       "[1] 100\n",
       "\n",
       "\n",
       "$`result 1`[[3]]\n",
       "$`result 1`[[3]]$position\n",
       "[1] 8786   59   60\n",
       "\n",
       "$`result 1`[[3]]$percent\n",
       "[1] 100\n",
       "\n",
       "\n",
       "\n",
       "$`result 2`\n",
       "$`result 2`[[1]]\n",
       "$`result 2`[[1]]$position\n",
       "[1] 9481\n",
       "\n",
       "$`result 2`[[1]]$percent\n",
       "[1] 100\n",
       "\n",
       "\n",
       "$`result 2`[[2]]\n",
       "$`result 2`[[2]]$position\n",
       "[1] 9481   59\n",
       "\n",
       "$`result 2`[[2]]$percent\n",
       "[1] 100\n",
       "\n",
       "\n",
       "$`result 2`[[3]]\n",
       "$`result 2`[[3]]$position\n",
       "[1] 9481   59   60\n",
       "\n",
       "$`result 2`[[3]]$percent\n",
       "[1] 100\n",
       "\n",
       "\n"
      ]
     },
     "metadata": {},
     "output_type": "display_data"
    }
   ],
   "source": [
    "rr<-readRDS(\"re.RData\")\n",
    "rr"
   ]
  },
  {
   "cell_type": "code",
   "execution_count": 6,
   "metadata": {},
   "outputs": [
    {
     "name": "stdout",
     "output_type": "stream",
     "text": [
      "[1] \"Result 1:\"\n",
      "[[1]]\n",
      "[[1]]$position\n",
      "[1] 8786\n",
      "\n",
      "[[1]]$percent\n",
      "[1] 100\n",
      "\n",
      "\n",
      "[[2]]\n",
      "[[2]]$position\n",
      "[1] 8786   59\n",
      "\n",
      "[[2]]$percent\n",
      "[1] 100\n",
      "\n",
      "\n",
      "[[3]]\n",
      "[[3]]$position\n",
      "[1] 8786   59   60\n",
      "\n",
      "[[3]]$percent\n",
      "[1] 100\n",
      "\n",
      "\n",
      "[1] \"Residual:\"\n",
      "NULL\n",
      "[1] \"Sequence at final level positions:\"\n",
      "[1] \"tag\"\n",
      "[1] \"tag :\"\n",
      "[1] \"gb|MT292582.1\"\n",
      "[1] \"cag :\"\n",
      "[1] \"gb|MT292580.1\" \"gb|MT281530.1\"\n",
      "----------\n",
      "\n",
      "[1] \"Result 2:\"\n",
      "[[1]]\n",
      "[[1]]$position\n",
      "[1] 9481\n",
      "\n",
      "[[1]]$percent\n",
      "[1] 100\n",
      "\n",
      "\n",
      "[[2]]\n",
      "[[2]]$position\n",
      "[1] 9481   59\n",
      "\n",
      "[[2]]$percent\n",
      "[1] 100\n",
      "\n",
      "\n",
      "[[3]]\n",
      "[[3]]$position\n",
      "[1] 9481   59   60\n",
      "\n",
      "[[3]]$percent\n",
      "[1] 100\n",
      "\n",
      "\n",
      "[1] \"Residual:\"\n",
      "NULL\n",
      "[1] \"Sequence at final level positions:\"\n",
      "[1] \"aag\"\n",
      "[1] \"aag :\"\n",
      "[1] \"gb|MT292582.1\"\n",
      "[1] \"tag :\"\n",
      "[1] \"gb|MT292580.1\" \"gb|MT281530.1\"\n",
      "----------\n",
      "\n"
     ]
    }
   ],
   "source": [
    "present.percent(sar, 'gb|MT292582.1', rr)"
   ]
  },
  {
   "cell_type": "code",
   "execution_count": null,
   "metadata": {},
   "outputs": [],
   "source": [
    "val <-percent.pattern(sar,list(), c(8786,59,60))"
   ]
  },
  {
   "cell_type": "code",
   "execution_count": null,
   "metadata": {},
   "outputs": [],
   "source": [
    "for (a in unique(val)){\n",
    "    print(a)\n",
    "    print(names(which(val == a)))\n",
    "}"
   ]
  },
  {
   "cell_type": "code",
   "execution_count": null,
   "metadata": {},
   "outputs": [],
   "source": [
    "names(which(val == 'cag'))"
   ]
  },
  {
   "cell_type": "code",
   "execution_count": null,
   "metadata": {},
   "outputs": [],
   "source": [
    "print(re[[1]][[3]]$position)"
   ]
  },
  {
   "cell_type": "code",
   "execution_count": null,
   "metadata": {},
   "outputs": [],
   "source": [
    "names(sar)[28]"
   ]
  },
  {
   "cell_type": "code",
   "execution_count": null,
   "metadata": {},
   "outputs": [],
   "source": [
    "te<-seq(10, 190, by=10)\n",
    "result <- foreach(sSize = seq(10, 190, by=10)) %dopar% {\n",
    "    sampleSequence <- sample(length(sar), replace=FALSE, size = sSize)\n",
    "    sequences <- sar[sampleSequence]\n",
    "    exc_Pos <- flagPosition(sequences)\n",
    "    sampleResult <- branch.percent(sequences, names(sequences)[1], 1, excluded=exc_Pos, numRes=1)\n",
    "    return (list(sampleIndex=sampleSequence, excluded=exc_Pos, percent=sampleResult))\n",
    "    }"
   ]
  },
  {
   "cell_type": "code",
   "execution_count": null,
   "metadata": {},
   "outputs": [],
   "source": [
    "result[[1]]$sampleIndex"
   ]
  },
  {
   "cell_type": "code",
   "execution_count": null,
   "metadata": {},
   "outputs": [],
   "source": [
    "for (a in 1:length(result)){\n",
    "    print(a)\n",
    "    print(paste(\"Sampled: \", length(result[[a]]$sampleIndex)))\n",
    "    print(paste(\"No. of excluded positions: \", length(result[[a]]$excluded)))\n",
    "    print(\"Target: \")\n",
    "    print(names(sar)[result[[a]]$sampleIndex[1]])\n",
    "    print(\"Percent result for the sample: \")\n",
    "    print(result[[a]]$percent)\n",
    "}"
   ]
  },
  {
   "cell_type": "code",
   "execution_count": null,
   "metadata": {},
   "outputs": [],
   "source": [
    "result2 <- foreach(sSize = seq(10, 190, by=10)) %dopar% {\n",
    "    sampleSequence <- sample(length(sar), replace=FALSE, size = sSize)\n",
    "    sequences <- sar[sampleSequence]\n",
    "    exc_Pos <- flagPosition(sequences)\n",
    "    sampleResult <- branch.percent(sequences, names(sequences)[1], 1, excluded=exc_Pos, numRes=1)\n",
    "    return (list(sampleIndex=sampleSequence, excluded=exc_Pos, percent=sampleResult))\n",
    "    }"
   ]
  },
  {
   "cell_type": "code",
   "execution_count": null,
   "metadata": {},
   "outputs": [],
   "source": [
    "for (a in 1:length(result2)){\n",
    "    print(a)\n",
    "    print(paste(\"Sampled: \", length(result2[[a]]$sampleIndex)))\n",
    "    print(paste(\"No. of excluded positions: \", length(result2[[a]]$excluded)))\n",
    "    print(\"Target: \")\n",
    "    print(names(sar)[result2[[a]]$sampleIndex[1]])\n",
    "    print(\"Percent result for the sample: \")\n",
    "    print(result2[[a]]$percent)\n",
    "}"
   ]
  },
  {
   "cell_type": "code",
   "execution_count": null,
   "metadata": {},
   "outputs": [],
   "source": [
    "result3 <- foreach(sSize = seq(10, 190, by=10)) %dopar% {\n",
    "    sampleSequence <- sample(length(sar), replace=FALSE, size = sSize)\n",
    "    sequences <- sar[sampleSequence]\n",
    "    exc_Pos <- flagPosition(sequences)\n",
    "    sampleResult <- branch.percent(sequences, names(sequences)[1], 1, excluded=exc_Pos, numRes=1)\n",
    "    return (list(sampleIndex=sampleSequence, excluded=exc_Pos, percent=sampleResult))\n",
    "    }"
   ]
  },
  {
   "cell_type": "code",
   "execution_count": null,
   "metadata": {},
   "outputs": [],
   "source": [
    "for (a in 1:length(result3)){\n",
    "    print(a)\n",
    "    print(paste(\"Sampled: \", length(result3[[a]]$sampleIndex)))\n",
    "    print(paste(\"No. of excluded positions: \", length(result3[[a]]$excluded)))\n",
    "    print(\"Target: \")\n",
    "    print(names(sar)[result3[[a]]$sampleIndex[1]])\n",
    "    print(\"Percent result for the sample: \")\n",
    "    print(result3[[a]]$percent)\n",
    "}"
   ]
  },
  {
   "cell_type": "code",
   "execution_count": null,
   "metadata": {},
   "outputs": [],
   "source": [
    "save(result, result2, result3, file = \"result.RData\")"
   ]
  },
  {
   "cell_type": "code",
   "execution_count": null,
   "metadata": {},
   "outputs": [],
   "source": [
    "sequences_Exc <- foreach(s = 1:length(sar)) %dopar% {\n",
    "    exc_Pos <- flagPosition(sar[s])\n",
    "    return (length(exc_Pos))\n",
    "    }"
   ]
  },
  {
   "cell_type": "code",
   "execution_count": null,
   "metadata": {},
   "outputs": [],
   "source": [
    "sequences_Exc[which (sequences_Exc>1000)]"
   ]
  },
  {
   "cell_type": "code",
   "execution_count": null,
   "metadata": {},
   "outputs": [],
   "source": [
    "which (sequences_Exc>1000)"
   ]
  },
  {
   "cell_type": "code",
   "execution_count": null,
   "metadata": {},
   "outputs": [],
   "source": [
    "names(sar)[which (sequences_Exc>1000)]"
   ]
  },
  {
   "cell_type": "code",
   "execution_count": null,
   "metadata": {},
   "outputs": [],
   "source": [
    "for (i in 1:length(m1000)){\n",
    "    j = m1000[[i]]\n",
    "    print(names(sar)[j])\n",
    "}"
   ]
  },
  {
   "cell_type": "code",
   "execution_count": null,
   "metadata": {},
   "outputs": [],
   "source": [
    "sar[200]"
   ]
  },
  {
   "cell_type": "code",
   "execution_count": null,
   "metadata": {},
   "outputs": [],
   "source": [
    "a<-sample(length(sar), replace=FALSE, size = 10)\n",
    "print(a)"
   ]
  },
  {
   "cell_type": "code",
   "execution_count": null,
   "metadata": {},
   "outputs": [],
   "source": [
    "sar[97]"
   ]
  },
  {
   "cell_type": "code",
   "execution_count": null,
   "metadata": {},
   "outputs": [],
   "source": [
    "length(sar[a])"
   ]
  },
  {
   "cell_type": "code",
   "execution_count": null,
   "metadata": {},
   "outputs": [],
   "source": [
    "names(sar)"
   ]
  },
  {
   "cell_type": "code",
   "execution_count": null,
   "metadata": {},
   "outputs": [],
   "source": [
    "exc_Pos <- flagPosition(sar)\n",
    "unique_exc_Pos <- unique(exc_Pos)\n",
    "print(paste(\"Length of sequence:\",length(sar[1][[1]])))\n",
    "print(paste(\"Number of excluded position\", length(unique_exc_Pos)))"
   ]
  },
  {
   "cell_type": "code",
   "execution_count": null,
   "metadata": {},
   "outputs": [],
   "source": [
    "exc_Pos_2 <- flagPosition(sar, dashIgnore = FALSE)\n",
    "unique_exc_Pos_2 <- unique(exc_Pos_2)\n",
    "print(paste(\"Length of sequence:\",length(sar[1][[1]])))\n",
    "print(paste(\"Number of excluded position\", length(unique_exc_Pos_2)))"
   ]
  },
  {
   "cell_type": "code",
   "execution_count": null,
   "metadata": {},
   "outputs": [],
   "source": [
    "unique_exc_Pos_2 <- sort(unique_exc_Pos_2)\n",
    "for (i in 700:750){\n",
    "    if (! i %in% unique_exc_Pos_2){\n",
    "        print(i)\n",
    "    }\n",
    "}"
   ]
  },
  {
   "cell_type": "code",
   "execution_count": null,
   "metadata": {},
   "outputs": [],
   "source": [
    "for (j in 740:800){\n",
    "    print(j)\n",
    "    dat <- list()\n",
    "    for (i in 1:length(sar)){\n",
    "        dat<-c(dat, sar[i][[1]][j])\n",
    "    }\n",
    "    if (! j %in% exc_Pos_2){\n",
    "        print(paste(unique(dat), sep=\",\"))    \n",
    "    }\n",
    "}"
   ]
  },
  {
   "cell_type": "code",
   "execution_count": null,
   "metadata": {},
   "outputs": [],
   "source": [
    "print(sar[13][[1]][430:440])"
   ]
  },
  {
   "cell_type": "code",
   "execution_count": null,
   "metadata": {},
   "outputs": [],
   "source": [
    "registerDoParallel(cores=2)"
   ]
  },
  {
   "cell_type": "code",
   "execution_count": null,
   "metadata": {},
   "outputs": [],
   "source": [
    "result=branch.percent(sar, 'gb|MT292582.1', 1, excluded=exc_Pos, numRes=1)"
   ]
  },
  {
   "cell_type": "code",
   "execution_count": null,
   "metadata": {},
   "outputs": [],
   "source": [
    "present.percent(sar, 'gb|MT292582.1', result)"
   ]
  },
  {
   "cell_type": "code",
   "execution_count": null,
   "metadata": {},
   "outputs": [],
   "source": [
    "result=branch.percent(sar, 'gb|MT292582.1', 1, excluded=unique_exc_Pos_2, numRes=1)"
   ]
  },
  {
   "cell_type": "code",
   "execution_count": null,
   "metadata": {},
   "outputs": [],
   "source": [
    "present.percent(sar, 'gb|MT292582.1', result)"
   ]
  },
  {
   "cell_type": "code",
   "execution_count": null,
   "metadata": {},
   "outputs": [],
   "source": [
    "j=9481\n",
    "dat <- list()\n",
    "for (i in 1:length(sar)){\n",
    "    dat<-c(dat, sar[i][[1]][j])\n",
    "}\n",
    "if (! j %in% exc_Pos_2){\n",
    "    print(paste(unique(dat), sep=\",\"))    \n",
    "}"
   ]
  },
  {
   "cell_type": "code",
   "execution_count": null,
   "metadata": {},
   "outputs": [],
   "source": [
    "result=branch.percent(sar, 'gb|MT292582.1', 1, excluded=unique_exc_Pos_2, numRes=2)\n",
    "present.percent(sar, 'gb|MT292582.1', result)"
   ]
  },
  {
   "cell_type": "code",
   "execution_count": null,
   "metadata": {},
   "outputs": [],
   "source": [
    "sar[['gb|MT292582.1']]"
   ]
  },
  {
   "cell_type": "code",
   "execution_count": null,
   "metadata": {},
   "outputs": [],
   "source": [
    "type=percent.pattern(sar,list() , 758)\n",
    "# 'gb|MT292582.1'"
   ]
  },
  {
   "cell_type": "code",
   "execution_count": null,
   "metadata": {},
   "outputs": [],
   "source": [
    "type\n",
    "percent.calculate(type, 'gb|MT292582.1')"
   ]
  },
  {
   "cell_type": "code",
   "execution_count": null,
   "metadata": {},
   "outputs": [],
   "source": [
    "cur<-for(i in 1:3){\n",
    "    if(TRUE){next}\n",
    "    c(i)\n",
    "}"
   ]
  },
  {
   "cell_type": "code",
   "execution_count": null,
   "metadata": {},
   "outputs": [],
   "source": [
    "is.null(cur)"
   ]
  }
 ],
 "metadata": {
  "kernelspec": {
   "display_name": "R",
   "language": "R",
   "name": "ir"
  },
  "language_info": {
   "codemirror_mode": "r",
   "file_extension": ".r",
   "mimetype": "text/x-r-source",
   "name": "R",
   "pygments_lexer": "r",
   "version": "3.6.1"
  }
 },
 "nbformat": 4,
 "nbformat_minor": 2
}
